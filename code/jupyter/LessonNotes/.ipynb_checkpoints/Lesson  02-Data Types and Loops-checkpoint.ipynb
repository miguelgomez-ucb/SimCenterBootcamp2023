{
 "cells": [
  {
   "cell_type": "markdown",
   "metadata": {},
   "source": [
    "# A Python Quick Start Tutorial\n",
    "# Lesson \\#2 : More on Data Types & Loops\n",
    "## by Peter Mackenzie-Helnwein\n",
    "University of Washington, Seattle, WA\n",
    "\n",
    "pmackenz@uw.edu          \n",
    "https://www.ce.washington.edu/facultyfinder/peter-mackenzie-helnwein"
   ]
  },
  {
   "cell_type": "markdown",
   "metadata": {},
   "source": [
    "## Resources (reminder)\n",
    "\n",
    "   1. Python Docs: https://docs.python.org/3/\n",
    "   \n",
    "   1. Python Tutorial (comprehensive): https://docs.python.org/3/tutorial/index.html\n",
    "   \n",
    "   1. Python Library Reference (the nitty-gritty details): https://docs.python.org/3/library/index.html\n",
    "   \n",
    "   1. Everything else: http://google.com\n",
    "   "
   ]
  },
  {
   "cell_type": "markdown",
   "metadata": {},
   "source": [
    "## Discussing questions from the self-study assignment\n",
    "\n",
    "This section is to discuss your questions\n"
   ]
  },
  {
   "cell_type": "markdown",
   "metadata": {},
   "source": [
    "### Summary of our previous session\n",
    "\n",
    "This is the short version of all we achieved working together during our previous session.  We will be using this for further examples.\n",
    "\n",
    "**Theory**:\n",
    "Stress transformation\n",
    "\n",
    "$$\n",
    "\\begin{aligned}\n",
    "\\sigma_{x}' &= \\sigma_{x} \\cos^2\\theta + \\sigma_{y} \\sin^2\\theta + 2\\tau_{xy} \\sin\\theta \\cos\\theta \\\\\n",
    "\\sigma_{y}' &= \\sigma_{x} \\sin^2\\theta + \\sigma_{y} \\cos^2\\theta - 2\\tau_{xy} \\sin\\theta \\cos\\theta \\\\\n",
    "\\tau_{xy}'  &= (\\sigma_{y} - \\sigma_{x}) \\sin\\theta \\cos\\theta + \\tau_{xy} (\\cos^2\\theta - \\sin^2\\theta) \\\\\n",
    "\\end{aligned}\n",
    "$$\n",
    "\n",
    "**Given**:\n",
    "Stress state:\n",
    "\n",
    "$$\n",
    "\\sigma_{x} = 12~ksi~,\n",
    "~~~\n",
    "\\sigma_{y} = -5.5~ksi~,\n",
    "~~~\n",
    "\\tau_{xy} = 3.5~ksi \n",
    "$$\n",
    "\n",
    "**Find**:\n",
    "Components of stress in a rotated coordinate system for $\\theta=25^\\circ$."
   ]
  },
  {
   "cell_type": "code",
   "execution_count": 3,
   "metadata": {},
   "outputs": [
    {
     "name": "stdout",
     "output_type": "stream",
     "text": [
      "sigma_x=   12.000000 ksi\n",
      "sigma_y=   -5.500000 ksi\n",
      "tau_xy =    3.500000 ksi\n",
      "\n",
      "sigma_x=   11.555547 ksi\n",
      "sigma_y=   -5.055547 ksi\n",
      "tau_xy =   -4.453132 ksi\n",
      "\n",
      "sigma_x=   12.000000 ksi\n",
      "sigma_y=   -5.500000 ksi\n",
      "tau_xy =    3.500000 ksi\n",
      "\n"
     ]
    }
   ],
   "source": [
    "# load needed functions from library module math\n",
    "from math import sin,cos,radians\n",
    "\n",
    "# define function(s)\n",
    "def stressTransform(sigx, sigy, tauxy, theta):\n",
    "\n",
    "    th = radians(theta)\n",
    "\n",
    "    sx  = sigx * cos(th)**2 + sigy * sin(th)**2 + 2*tauxy * sin(th) * cos(th)\n",
    "    sy  = sigx * sin(th)**2 + sigy * cos(th)**2 - 2*tauxy * sin(th) * cos(th)\n",
    "    txy = (sigy - sigx) * sin(th) * cos(th) + tauxy * (cos(th)**2 - sin(th)**2) \n",
    "    \n",
    "    return (sx,sy,txy)\n",
    "\n",
    "# define some input parameters\n",
    "sigma_x = 12.\n",
    "sigma_y = -5.5\n",
    "tau_xy = 3.5\n",
    "\n",
    "# use that function\n",
    "template = \"sigma_x={:12.6f} ksi\\nsigma_y={:12.6f} ksi\\ntau_xy ={:12.6f} ksi\\n\"\n",
    "print(template.format(*stressTransform(sigma_x, sigma_y, tau_xy, 0)))\n",
    "print(template.format(*stressTransform(sigma_x, sigma_y, tau_xy, 25)))\n",
    "print(template.format(*stressTransform(sigma_x, sigma_y, tau_xy, 180)))"
   ]
  },
  {
   "cell_type": "markdown",
   "metadata": {},
   "source": [
    "## Exercise 1: List versus dictionary\n",
    "\n",
    "You could express the stress state as\n",
    "\n",
    "1. three independent variables - the way we did it thus far\n",
    "\n",
    "2. a list of three values: `stress = `$[\\sigma_x, \\sigma_y, \\tau_{xy}]$ and replace\n",
    "\n",
    "        sigma_x --> stress[0]\n",
    "        sigma_y --> stress[1]\n",
    "        tau_xy  --> stress[2]\n",
    "        \n",
    "3. a dictionary \n",
    "\n",
    "        stress = {'sigx': 12.0, 'sigy': -5.5, 'tau':3.50}\n",
    "        \n",
    "   and replace\n",
    "\n",
    "        sigma_x --> stress['sigx']\n",
    "        sigma_y --> stress['sigy']\n",
    "        tau_xy  --> stress['tau']\n",
    "\n",
    "**Discuss**:\n",
    "\n",
    "1. Pros and cons for coding the equations\n",
    "2. Pros and cons for coding the function(s)\n",
    "3. How woud code and function change when switching from 2D to 3D (6 components instead of 3 components)\n",
    "\n",
    "**Implement**:\n",
    "An alternative version of the `stressTransform(...)` function using a dictionary as defined under item 3. above."
   ]
  },
  {
   "cell_type": "code",
   "execution_count": 4,
   "metadata": {},
   "outputs": [],
   "source": [
    "def stressTransform2(stress, theta):\n",
    "    # YOUR CODE HERE ...\n",
    "\n",
    "    th    = radians(theta)\n",
    "    sigx  = stress['sigx']\n",
    "    sigy  = stress['sigy']\n",
    "    tauxy = stress['tau']\n",
    "    \n",
    "    sx  = sigx * cos(th)**2 + sigy * sin(th)**2 + 2*tauxy * sin(th) * cos(th)\n",
    "    sy  = sigx * sin(th)**2 + sigy * cos(th)**2 - 2*tauxy * sin(th) * cos(th)\n",
    "    txy = (sigy - sigx) * sin(th) * cos(th) + tauxy * (cos(th)**2 - sin(th)**2)\n",
    "    \n",
    "    stress_out = {'sigx': sx, 'sigy': sy, 'tau': txy}\n",
    "    \n",
    "    # stress_out is another dictionary containing the transformed stress\n",
    "    return stress_out"
   ]
  },
  {
   "cell_type": "markdown",
   "metadata": {},
   "source": [
    "Initialize given stress"
   ]
  },
  {
   "cell_type": "code",
   "execution_count": 5,
   "metadata": {},
   "outputs": [],
   "source": [
    "given_stress = {'sigx': 12.0, 'sigy': -5.5, 'tau':3.50}"
   ]
  },
  {
   "cell_type": "code",
   "execution_count": 7,
   "metadata": {},
   "outputs": [
    {
     "data": {
      "text/plain": [
       "{'sigx': 11.555547135673642,\n",
       " 'sigy': -5.055547135673642,\n",
       " 'tau': -4.453132243388171}"
      ]
     },
     "execution_count": 7,
     "metadata": {},
     "output_type": "execute_result"
    }
   ],
   "source": [
    "stressTransform2(given_stress, 25)"
   ]
  },
  {
   "cell_type": "markdown",
   "metadata": {},
   "source": [
    "Add some nice print out for all transformation angles in the $\\theta$-list "
   ]
  },
  {
   "cell_type": "code",
   "execution_count": 44,
   "metadata": {},
   "outputs": [
    {
     "name": "stdout",
     "output_type": "stream",
     "text": [
      "    0.00,   12.000000,   -5.500000,    3.500000\n",
      "   25.00,   11.555547,   -5.055547,   -4.453132\n",
      "   45.00,    6.750000,   -0.250000,   -8.750000\n",
      "   75.00,   -2.577722,    9.077722,   -7.406089\n",
      "   90.00,   -5.500000,   12.000000,   -3.500000\n",
      "  180.00,   12.000000,   -5.500000,    3.500000\n"
     ]
    }
   ],
   "source": [
    "theta_list = [0., 25., 45., 75., 90., 180.]\n",
    "\n",
    "template = \"\"\"theta ={th:8.2f}:  \n",
    "    sigma_x = {sigx:12.6f} ksi  \n",
    "    sigma_y = {sigy:12.6f} ksi  \n",
    "    tau_xy  = {tau:12.6f} ksi\n",
    "    \"\"\"\n",
    "\n",
    "template = \"{th:8.2f},{sigx:12.6f},{sigy:12.6f},{tau:12.6f}\"\n",
    "\n",
    "# YOUR CODE HERE ...\n",
    "for theta in theta_list:\n",
    "    stress = stressTransform2(given_stress,theta)\n",
    "    print(template.format(th=theta, **stress))"
   ]
  },
  {
   "cell_type": "markdown",
   "metadata": {},
   "source": [
    "### Exercise 2 : Boolean variables\n",
    "\n",
    "Badly formulated boolean expressions are a common source for faulty code.  This exercise shall emphasize how easy it is to misinterpret conditions.  Moreover, we will explore ways to test and improve our conditions.\n",
    "\n",
    "**Your Task**:\n",
    "predict the data type and value of the following boolean expressions.  Is this `True` or `False`?\n",
    "\n",
    "    17 <= 365/21  and  'Monday' < 'Friday'\n",
    "\n",
    "    'Monday'  < 'Friday'  or  cos( 3.1427 )\n",
    "\n",
    "    (100 - 99) and sin( 3.14127/3 )  or  'Friday' > 'Monday'\n",
    "    \n",
    "    (100 - 99) and sin( 3.14127/3 )  and 'Friday' > 'Monday'\n",
    "    \n",
    "    (100 - 99) or sin( 3.14127/3 )  and 'Friday' > 'Monday'\n",
    "    \n",
    "    ( (100 - 99) or sin( 3.14127/3 ) )  and 'Friday' > 'Monday'\n",
    "    \n",
    "    ( (100 - 99) and sin( 3.14127/3 ) ) or 'Friday' > 'Monday'\n",
    "    \n",
    "Write a simple test function that tells you how the computer interprets the result:\n"
   ]
  },
  {
   "cell_type": "code",
   "execution_count": 45,
   "metadata": {},
   "outputs": [],
   "source": [
    "from math import sin\n",
    "\n",
    "def test(cond):\n",
    "    if cond:\n",
    "        print(\"cond => {} => is True\".format(cond))\n",
    "    else:\n",
    "        print(\"cond => {} => is False\".format(cond))\n"
   ]
  },
  {
   "cell_type": "code",
   "execution_count": 63,
   "metadata": {},
   "outputs": [
    {
     "name": "stdout",
     "output_type": "stream",
     "text": [
      "cond => 0.865971623177473 => is True\n",
      "\n",
      " Condition 1\n",
      "cond => False => is False\n",
      "\n",
      " Condition 2\n",
      "cond => -0.9999993868920265 => is True\n",
      "\n",
      " Condition 3\n",
      "cond => 0.865971623177473 => is True\n"
     ]
    }
   ],
   "source": [
    "cd = (100 - 99) and ( sin( 3.14127/3 ) or 'Friday' > 'Monday' )\n",
    "test(cd)\n",
    "\n",
    "print('\\n Condition 1')\n",
    "cd = 17 <= 365/21 and 'Monday' < 'Friday'  # Compares strings in alphabetical order (Monday > Friday)\n",
    "test(cd)\n",
    "\n",
    "print('\\n Condition 2')\n",
    "cd = 'Monday'  < 'Friday'  or  cos( 3.1427 )     # Nonzero boolean == True\n",
    "test(cd)\n",
    "\n",
    "print('\\n Condition 3')\n",
    "cd = (100 - 99) and sin( 3.14127/3 )  or  'Friday' > 'Monday'     # Shows last computation done for the comparison\n",
    "test(cd)\n"
   ]
  },
  {
   "cell_type": "code",
   "execution_count": null,
   "metadata": {},
   "outputs": [],
   "source": []
  },
  {
   "cell_type": "code",
   "execution_count": 70,
   "metadata": {},
   "outputs": [
    {
     "name": "stdout",
     "output_type": "stream",
     "text": [
      "True\n"
     ]
    }
   ],
   "source": [
    "if 'False':   # Just a string, it doesn't matter what's in the string.\n",
    "    print('True')\n",
    "else:\n",
    "    print('False')\n",
    "    \n",
    "# Just an EMPTY string is FALSE"
   ]
  },
  {
   "cell_type": "code",
   "execution_count": 75,
   "metadata": {},
   "outputs": [
    {
     "name": "stdout",
     "output_type": "stream",
     "text": [
      "True\n"
     ]
    }
   ],
   "source": [
    "DEBUG_MODE = True\n",
    "\n",
    "want_a_coffee = False\n",
    "\n",
    "if DEBUG_MODE:\n",
    "    ans = want_a_coffee or not want_a_coffee\n",
    "    print(ans)"
   ]
  },
  {
   "cell_type": "code",
   "execution_count": 76,
   "metadata": {},
   "outputs": [
    {
     "name": "stdout",
     "output_type": "stream",
     "text": [
      "False\n",
      "False\n"
     ]
    }
   ],
   "source": [
    "for A in [True, False]:\n",
    "    print(A and (not A))\n",
    "    "
   ]
  },
  {
   "cell_type": "markdown",
   "metadata": {},
   "source": [
    "### Exercise 3 : Writing efficient loops in python\n",
    "\n",
    "**Given**:\n",
    "Three lists containing $\\theta$, $y_1=\\sin\\theta$, and $y_2=\\cos\\theta$.\n"
   ]
  },
  {
   "cell_type": "code",
   "execution_count": 78,
   "metadata": {},
   "outputs": [
    {
     "name": "stdout",
     "output_type": "stream",
     "text": [
      "0\n",
      "1\n",
      "2\n",
      "3\n",
      "4\n",
      "5\n",
      "6\n",
      "7\n",
      "8\n",
      "9\n"
     ]
    }
   ],
   "source": [
    "for i in range(10):\n",
    "    print(i)"
   ]
  },
  {
   "cell_type": "code",
   "execution_count": 77,
   "metadata": {},
   "outputs": [
    {
     "data": {
      "text/plain": [
       "[0, 1, 2, 3, 4, 5, 6, 7, 8, 9, 10]"
      ]
     },
     "execution_count": 77,
     "metadata": {},
     "output_type": "execute_result"
    }
   ],
   "source": [
    "list(range(10+1))   # Need one more element"
   ]
  },
  {
   "cell_type": "code",
   "execution_count": 82,
   "metadata": {},
   "outputs": [],
   "source": [
    "from math import pi, sin, cos\n",
    "\n",
    "# set a parameter: N is an integer >= 1\n",
    "N = 10\n",
    "\n",
    "# initialize the lists\n",
    "theta = []\n",
    "y1 = []\n",
    "y2 = []\n",
    "\n",
    "# run this to populate the lists\n",
    "th = 0.0\n",
    "\n",
    "for i in range(N+1):\n",
    "    theta.append(th)\n",
    "    y1.append(sin(th))\n",
    "    y2.append(cos(th))\n",
    "    th += pi/N"
   ]
  },
  {
   "cell_type": "code",
   "execution_count": 83,
   "metadata": {},
   "outputs": [
    {
     "data": {
      "text/plain": [
       "[0.0,\n",
       " 0.3141592653589793,\n",
       " 0.6283185307179586,\n",
       " 0.9424777960769379,\n",
       " 1.2566370614359172,\n",
       " 1.5707963267948966,\n",
       " 1.8849555921538759,\n",
       " 2.199114857512855,\n",
       " 2.5132741228718345,\n",
       " 2.827433388230814,\n",
       " 3.141592653589793]"
      ]
     },
     "execution_count": 83,
     "metadata": {},
     "output_type": "execute_result"
    }
   ],
   "source": [
    "theta"
   ]
  },
  {
   "cell_type": "code",
   "execution_count": 84,
   "metadata": {},
   "outputs": [
    {
     "data": {
      "text/plain": [
       "[0.0,\n",
       " 0.3090169943749474,\n",
       " 0.5877852522924731,\n",
       " 0.8090169943749475,\n",
       " 0.9510565162951535,\n",
       " 1.0,\n",
       " 0.9510565162951536,\n",
       " 0.8090169943749475,\n",
       " 0.5877852522924732,\n",
       " 0.3090169943749475,\n",
       " 1.2246467991473532e-16]"
      ]
     },
     "execution_count": 84,
     "metadata": {},
     "output_type": "execute_result"
    }
   ],
   "source": [
    "y1"
   ]
  },
  {
   "cell_type": "code",
   "execution_count": 85,
   "metadata": {},
   "outputs": [
    {
     "data": {
      "text/plain": [
       "[1.0,\n",
       " 0.9510565162951535,\n",
       " 0.8090169943749475,\n",
       " 0.5877852522924731,\n",
       " 0.30901699437494745,\n",
       " 6.123233995736766e-17,\n",
       " -0.30901699437494734,\n",
       " -0.587785252292473,\n",
       " -0.8090169943749473,\n",
       " -0.9510565162951535,\n",
       " -1.0]"
      ]
     },
     "execution_count": 85,
     "metadata": {},
     "output_type": "execute_result"
    }
   ],
   "source": [
    "y2"
   ]
  },
  {
   "cell_type": "markdown",
   "metadata": {},
   "source": [
    "**Your Task**:\n",
    "Write a loop that prints a table\n",
    "\n",
    "~~~\n",
    "theta   sin(theta)    cos(theta)\n",
    "...\n",
    "~~~\n",
    "\n",
    "1. Assume you do not know how many elements are in those lists => you'll have to figure it out\n",
    "2. use as few variables as possible\n",
    "3. The shortest working solution requires only two lines of code (more are OK, of course).\n",
    "\n",
    "**Hint**: \n",
    "If you got time left, check out the `zip` command."
   ]
  },
  {
   "cell_type": "code",
   "execution_count": 92,
   "metadata": {},
   "outputs": [
    {
     "name": "stdout",
     "output_type": "stream",
     "text": [
      "      0.0000       0.0000       1.0000\n",
      "      0.3142       0.3090       0.9511\n",
      "      0.6283       0.5878       0.8090\n",
      "      0.9425       0.8090       0.5878\n",
      "      1.2566       0.9511       0.3090\n",
      "      1.5708       1.0000       0.0000\n",
      "      1.8850       0.9511      -0.3090\n",
      "      2.1991       0.8090      -0.5878\n",
      "      2.5133       0.5878      -0.8090\n",
      "      2.8274       0.3090      -0.9511\n",
      "      3.1416       0.0000      -1.0000\n"
     ]
    }
   ],
   "source": [
    "for i in range(len(theta)):\n",
    "    print(\"{:12.4f} {:12.4f} {:12.4f}\".format(theta[i], y1[i], y2[i]))\n",
    "    "
   ]
  },
  {
   "cell_type": "code",
   "execution_count": 96,
   "metadata": {},
   "outputs": [
    {
     "name": "stdout",
     "output_type": "stream",
     "text": [
      "      0.0000       0.0000       1.0000\n",
      "      0.3142       0.3090       0.9511\n",
      "      0.6283       0.5878       0.8090\n",
      "      0.9425       0.8090       0.5878\n",
      "      1.2566       0.9511       0.3090\n",
      "      1.5708       1.0000       0.0000\n",
      "      1.8850       0.9511      -0.3090\n",
      "      2.1991       0.8090      -0.5878\n",
      "      2.5133       0.5878      -0.8090\n",
      "      2.8274       0.3090      -0.9511\n",
      "      3.1416       0.0000      -1.0000\n"
     ]
    }
   ],
   "source": [
    "for th, X1, X2 in zip(theta,y1,y2):\n",
    "    print(f\"{th:12.4f} {X1:12.4f} {X2:12.4f}\")"
   ]
  },
  {
   "cell_type": "code",
   "execution_count": 43,
   "metadata": {},
   "outputs": [
    {
     "name": "stdout",
     "output_type": "stream",
     "text": [
      "    0.000000      0.000000      1.000000\n",
      "    0.628319      0.587785      0.809017\n",
      "    1.256637      0.951057      0.309017\n",
      "    1.884956      0.951057     -0.309017\n",
      "    2.513274      0.587785     -0.809017\n",
      "    3.141593      0.000000     -1.000000\n"
     ]
    }
   ],
   "source": [
    "from numpy import array\n",
    "N = array([ len(theta), len(y1), len(y2) ]).min()\n",
    "\n",
    "for i in range(N):\n",
    "    print(\"{:12.6f}  {:12.6f}  {:12.6f}\".format(theta[i],y1[i],y2[i]))"
   ]
  },
  {
   "cell_type": "code",
   "execution_count": 65,
   "metadata": {},
   "outputs": [
    {
     "name": "stdout",
     "output_type": "stream",
     "text": [
      "     theta            y1            y2  \n",
      "========================================\n",
      "    0.000000      0.000000      1.000000\n",
      "    0.314159      0.309017      0.951057\n",
      "    0.628319      0.587785      0.809017\n",
      "    0.942478      0.809017      0.587785\n",
      "    1.256637      0.951057      0.309017\n",
      "    1.570796      1.000000      0.000000\n",
      "    1.884956      0.951057     -0.309017\n",
      "    2.199115      0.809017     -0.587785\n",
      "    2.513274      0.587785     -0.809017\n",
      "    2.827433      0.309017     -0.951057\n",
      "    3.141593      0.000000     -1.000000\n"
     ]
    }
   ],
   "source": [
    "print(\"     theta            y1            y2  \")\n",
    "print(40*\"=\")\n",
    "for row in zip(theta, y1, y2):\n",
    "    print(\"{:12.6f}  {:12.6f}  {:12.6f}\".format(*row))"
   ]
  },
  {
   "cell_type": "markdown",
   "metadata": {},
   "source": [
    "Note the important trick:\n",
    "\n",
    "Loop over **items** in a list, NOT by index!  This makes code more compact and much better readable."
   ]
  },
  {
   "cell_type": "code",
   "execution_count": 131,
   "metadata": {},
   "outputs": [
    {
     "data": {
      "image/png": "[encoded data removed]",
      "text/plain": [
       "<Figure size 640x480 with 1 Axes>"
      ]
     },
     "metadata": {},
     "output_type": "display_data"
    }
   ],
   "source": [
    "import matplotlib.pyplot as plt\n",
    "selfont = {'fontname':'Times New Roman','fontsize':12}\n",
    "plt.plot(theta, y1,'-r')\n",
    "plt.plot(theta, y2,'--b')\n",
    "plt.xlabel('x', **selfont)\n",
    "plt.ylabel('f(x)', **selfont)\n",
    "plt.grid()\n",
    "plt.savefig(\"Figure.pdf\")\n",
    "plt.show()"
   ]
  },
  {
   "cell_type": "markdown",
   "metadata": {},
   "source": [
    "### Exercise 4: Looping over dictionaries\n",
    "\n",
    "**Given**:\n",
    "A dictionary `your_course` is given as follows (please do a `shift-enter` to initialize it)"
   ]
  },
  {
   "cell_type": "code",
   "execution_count": 174,
   "metadata": {},
   "outputs": [],
   "source": [
    "your_course = {\n",
    "               'department':'CEE',\n",
    "               'group':'CESG',\n",
    "               'number':'505 A&B',\n",
    "               'complexity':10,\n",
    "               'workload':0,\n",
    "               'credits':3,\n",
    "               'instructor':'Dr Peter'\n",
    "              }"
   ]
  },
  {
   "cell_type": "markdown",
   "metadata": {},
   "source": [
    "**Your tasks**:\n",
    "1. Write a loop to print all keys, one per line"
   ]
  },
  {
   "cell_type": "code",
   "execution_count": 175,
   "metadata": {},
   "outputs": [
    {
     "name": "stdout",
     "output_type": "stream",
     "text": [
      "department   --> CEE         \n",
      "group        --> CESG        \n",
      "number       --> 505 A&B     \n",
      "complexity   --> 10          \n",
      "workload     --> 0           \n",
      "credits      --> 3           \n",
      "instructor   --> Dr Peter    \n"
     ]
    }
   ],
   "source": [
    "def print_all_keys(your_course):\n",
    "    for k in your_course.keys():\n",
    "        print('{:<12} --> {:<12}'.format(k,your_course[k]))\n",
    "\n",
    "print_all_keys(your_course)"
   ]
  },
  {
   "cell_type": "markdown",
   "metadata": {},
   "source": [
    "2. Change complexity to 6 and workload to 8"
   ]
  },
  {
   "cell_type": "code",
   "execution_count": 176,
   "metadata": {},
   "outputs": [
    {
     "name": "stdout",
     "output_type": "stream",
     "text": [
      "department   --> CEE         \n",
      "group        --> CESG        \n",
      "number       --> 505 A&B     \n",
      "complexity   --> 6           \n",
      "workload     --> 8           \n",
      "credits      --> 3           \n",
      "instructor   --> Dr Peter    \n"
     ]
    }
   ],
   "source": [
    "your_course['complexity'] = 6\n",
    "your_course['workload'] = 8\n",
    "\n",
    "print_all_keys(your_course)"
   ]
  },
  {
   "cell_type": "markdown",
   "metadata": {},
   "source": [
    "3. copy and modify the loop from 1. to print \"key: value\", one per line"
   ]
  },
  {
   "cell_type": "code",
   "execution_count": 160,
   "metadata": {},
   "outputs": [
    {
     "name": "stdout",
     "output_type": "stream",
     "text": [
      "department  : CEE         \n",
      "group       : CESG        \n",
      "number      : 505 A&B     \n",
      "complexity  : 6           \n",
      "workload    : 8           \n",
      "credits     : 3           \n",
      "instructor  : Dr Peter    \n"
     ]
    }
   ],
   "source": [
    "def print_all_keys(your_course):\n",
    "    for k in your_course.keys():\n",
    "        print('{:<12}: {:<12}'.format(k,your_course[k]))\n",
    "        \n",
    "print_all_keys(your_course)"
   ]
  },
  {
   "cell_type": "markdown",
   "metadata": {},
   "source": [
    "4. Write a condition that checks if `your_course` has a field named `'expected_grade'`.\n",
    "    - If the field DOES exist, print **\"Field exists with value of {:3.1f}\".format(_the value associated with that key_)\"**\n",
    "    - If the field DOES NOT exist, create it and assign a sensible value, the print **\"Field created with value of {:3.1f}\".format(_the value associated with that key_)\"**"
   ]
  },
  {
   "cell_type": "code",
   "execution_count": 206,
   "metadata": {},
   "outputs": [
    {
     "name": "stdout",
     "output_type": "stream",
     "text": [
      "Field created with value of 1.0\n"
     ]
    }
   ],
   "source": [
    "your_course = {\n",
    "               'department':'CEE',\n",
    "               'group':'CESG',\n",
    "               'number':'505 A&B',\n",
    "               'complexity':10,\n",
    "               'workload':0,\n",
    "               'credits':3,\n",
    "               'instructor':'Dr Peter'\n",
    "              }\n",
    "\n",
    "for k in your_course.keys():\n",
    "    if k == 'expected_grade':\n",
    "        exists = True\n",
    "    else:\n",
    "        exists = False\n",
    "        \n",
    "if exists:\n",
    "    print('Field exists with a value of {:3.1f}'.format(your_course['expected_grade']))\n",
    "else:\n",
    "    your_course['expected_grade'] = 1.0\n",
    "    print('Field created with value of {:3.1f}'.format(your_course['expected_grade']))"
   ]
  },
  {
   "cell_type": "markdown",
   "metadata": {},
   "source": [
    "Execute the above code again to verify that the new key/value pair was added"
   ]
  },
  {
   "cell_type": "code",
   "execution_count": 208,
   "metadata": {},
   "outputs": [],
   "source": [
    "# just copy the code from two cells above"
   ]
  },
  {
   "cell_type": "code",
   "execution_count": 207,
   "metadata": {},
   "outputs": [],
   "source": [
    "# repeat the code that prints key/value pairs"
   ]
  },
  {
   "cell_type": "markdown",
   "metadata": {},
   "source": [
    "## Homework questions\n",
    "\n",
    "We can all learn from your questions!"
   ]
  },
  {
   "cell_type": "code",
   "execution_count": null,
   "metadata": {},
   "outputs": [],
   "source": []
  }
 ],
 "metadata": {
  "kernelspec": {
   "display_name": "Python 3 (ipykernel)",
   "language": "python",
   "name": "python3"
  },
  "language_info": {
   "codemirror_mode": {
    "name": "ipython",
    "version": 3
   },
   "file_extension": ".py",
   "mimetype": "text/x-python",
   "name": "python",
   "nbconvert_exporter": "python",
   "pygments_lexer": "ipython3",
   "version": "3.10.9"
  }
 },
 "nbformat": 4,
 "nbformat_minor": 4
}
