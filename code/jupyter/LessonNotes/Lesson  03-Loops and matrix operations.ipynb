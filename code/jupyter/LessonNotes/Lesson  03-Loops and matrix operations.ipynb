{
 "cells": [
  {
   "cell_type": "markdown",
   "metadata": {},
   "source": [
    "# A Python Quick Start Tutorial\n",
    "# Lesson \\#3: Loops & Matrix Operations\n",
    "## by Peter Mackenzie-Helnwein\n",
    "University of Washington, Seattle, WA\n",
    "\n",
    "pmackenz@uw.edu          \n",
    "https://www.ce.washington.edu/facultyfinder/peter-mackenzie-helnwein"
   ]
  },
  {
   "cell_type": "markdown",
   "metadata": {},
   "source": [
    "## Resources (reminder)\n",
    "\n",
    "   1. Python Docs: https://docs.python.org/3/\n",
    "   \n",
    "   1. Python Tutorial (comprehensive): https://docs.python.org/3/tutorial/index.html\n",
    "   \n",
    "   1. Python Library Reference (the nitty-gritty details): https://docs.python.org/3/library/index.html\n",
    "   \n",
    "   1. Everything else: http://google.com\n",
    "   "
   ]
  },
  {
   "cell_type": "markdown",
   "metadata": {},
   "source": [
    "## Discussing questions from the self-study assignment\n",
    "\n",
    "This section is to discuss your questions\n"
   ]
  },
  {
   "cell_type": "markdown",
   "metadata": {},
   "source": [
    "### Exercise 1: Looping over dictionaries\n",
    "\n",
    "**Given**:\n",
    "A dictionary `your_course` is given as follows (please do a `shift-enter` to initialize it)"
   ]
  },
  {
   "cell_type": "code",
   "execution_count": 1,
   "metadata": {},
   "outputs": [],
   "source": [
    "your_course = {\n",
    "               'department':'CEE',\n",
    "               'group':'CESG',\n",
    "               'number':'505 A&B',\n",
    "               'complexity':10,\n",
    "               'workload':0,\n",
    "               'credits':3,\n",
    "               'instructor':'Dr Peter'\n",
    "              }"
   ]
  },
  {
   "cell_type": "markdown",
   "metadata": {},
   "source": [
    "**Your tasks**:\n",
    "1. Write a loop to print all keys, one per line"
   ]
  },
  {
   "cell_type": "code",
   "execution_count": null,
   "metadata": {},
   "outputs": [],
   "source": []
  },
  {
   "cell_type": "markdown",
   "metadata": {},
   "source": [
    "2. Change complexity to 6 and workload to 8"
   ]
  },
  {
   "cell_type": "code",
   "execution_count": null,
   "metadata": {},
   "outputs": [],
   "source": []
  },
  {
   "cell_type": "markdown",
   "metadata": {},
   "source": [
    "3. copy and modify the loop from 1. to print \"key: value\", one per line"
   ]
  },
  {
   "cell_type": "code",
   "execution_count": null,
   "metadata": {},
   "outputs": [],
   "source": []
  },
  {
   "cell_type": "markdown",
   "metadata": {},
   "source": [
    "4. Write a condition that checks if `your_course` has a field named `'expected_grade'`.\n",
    "    - If the field DOES exist, print **\"Field exists with value of {:3.1f}\".format(_the value associated with that key_)\"**\n",
    "    - If the field DOES NOT exist, create it and assign a sensible value, the print **\"Field created with value of {:3.1f}\".format(_the value associated with that key_)\"**"
   ]
  },
  {
   "cell_type": "code",
   "execution_count": null,
   "metadata": {},
   "outputs": [],
   "source": []
  },
  {
   "cell_type": "markdown",
   "metadata": {},
   "source": [
    "Execute the above code again to verify that the new key/value pair was added"
   ]
  },
  {
   "cell_type": "code",
   "execution_count": null,
   "metadata": {},
   "outputs": [],
   "source": []
  },
  {
   "cell_type": "markdown",
   "metadata": {},
   "source": [
    "### Exercise 2: Looping over Strings\n",
    "\n",
    "Strings are \"Lists of characters\". Thus, you can loop through a string.\n",
    "\n",
    "Moreover, multi-line text is also just a single string with newline characters ('\\n') separating lines.\n",
    "\n",
    "Consider the following string (a poem by Phillis Wheatley, the first African-American author of a published book of poetry):"
   ]
  },
  {
   "cell_type": "code",
   "execution_count": 2,
   "metadata": {},
   "outputs": [],
   "source": [
    "s = \"\"\"'Twas mercy brought me from my Pagan land,\n",
    "Taught my benighted soul to understand\n",
    "That there's a God, that there's a Saviour too:\n",
    "Once I redemption neither sought nor knew.\n",
    "Some view our sable race with scornful eye,\n",
    "\"Their colour is a diabolic die.\"\n",
    "Remember, Christians, Negros, black as Cain,\n",
    "May be refin'd, and join th' angelic train.\n",
    "\n",
    "            BY PHILLIS WHEATLEY\"\"\""
   ]
  },
  {
   "cell_type": "markdown",
   "metadata": {},
   "source": [
    "We used `\"\"\"...\"\"\"` to define a multi-line string.  While this looks nice, it is still a single string as can be verified by the next command."
   ]
  },
  {
   "cell_type": "code",
   "execution_count": 3,
   "metadata": {},
   "outputs": [
    {
     "data": {
      "text/plain": [
       "'\\'Twas mercy brought me from my Pagan land,\\nTaught my benighted soul to understand\\nThat there\\'s a God, that there\\'s a Saviour too:\\nOnce I redemption neither sought nor knew.\\nSome view our sable race with scornful eye,\\n\"Their colour is a diabolic die.\"\\nRemember, Christians, Negros, black as Cain,\\nMay be refin\\'d, and join th\\' angelic train.\\n\\n            BY PHILLIS WHEATLEY'"
      ]
     },
     "execution_count": 3,
     "metadata": {},
     "output_type": "execute_result"
    }
   ],
   "source": [
    "s"
   ]
  },
  {
   "cell_type": "markdown",
   "metadata": {},
   "source": [
    "Note the `\\n` in this string?  This example actually shows the difference between just typing the variable `s` (above) or using the `print()` command."
   ]
  },
  {
   "cell_type": "code",
   "execution_count": 4,
   "metadata": {},
   "outputs": [
    {
     "name": "stdout",
     "output_type": "stream",
     "text": [
      "'Twas mercy brought me from my Pagan land,\n",
      "Taught my benighted soul to understand\n",
      "That there's a God, that there's a Saviour too:\n",
      "Once I redemption neither sought nor knew.\n",
      "Some view our sable race with scornful eye,\n",
      "\"Their colour is a diabolic die.\"\n",
      "Remember, Christians, Negros, black as Cain,\n",
      "May be refin'd, and join th' angelic train.\n",
      "\n",
      "            BY PHILLIS WHEATLEY\n"
     ]
    }
   ],
   "source": [
    "print(s)"
   ]
  },
  {
   "cell_type": "code",
   "execution_count": 9,
   "metadata": {},
   "outputs": [
    {
     "name": "stdout",
     "output_type": "stream",
     "text": [
      "'-T-w-a-s- -m-e-r-c-y- -b-r-o-u-g-h-t- -m-e- -f-r-o-m- -m-y- -P-a-g-a-n- -l-a-n-d-,-\n",
      "-T-a-u-g-h-t- -m-y- -b-e-n-i-g-h-t-e-d- -s-o-u-l- -t-o- -u-n-d-e-r-s-t-a-n-d-\n",
      "-T-h-a-t- -t-h-e-r-e-'-s- -a- -G-o-d-,- -t-h-a-t- -t-h-e-r-e-'-s- -a- -S-a-v-i-o-u-r- -t-o-o-:-\n",
      "-O-n-c-e- -I- -r-e-d-e-m-p-t-i-o-n- -n-e-i-t-h-e-r- -s-o-u-g-h-t- -n-o-r- -k-n-e-w-.-\n",
      "-S-o-m-e- -v-i-e-w- -o-u-r- -s-a-b-l-e- -r-a-c-e- -w-i-t-h- -s-c-o-r-n-f-u-l- -e-y-e-,-\n",
      "-\"-T-h-e-i-r- -c-o-l-o-u-r- -i-s- -a- -d-i-a-b-o-l-i-c- -d-i-e-.-\"-\n",
      "-R-e-m-e-m-b-e-r-,- -C-h-r-i-s-t-i-a-n-s-,- -N-e-g-r-o-s-,- -b-l-a-c-k- -a-s- -C-a-i-n-,-\n",
      "-M-a-y- -b-e- -r-e-f-i-n-'-d-,- -a-n-d- -j-o-i-n- -t-h-'- -a-n-g-e-l-i-c- -t-r-a-i-n-.-\n",
      "-\n",
      "- - - - - - - - - - - - -B-Y- -P-H-I-L-L-I-S- -W-H-E-A-T-L-E-Y-"
     ]
    }
   ],
   "source": [
    "for c in s:\n",
    "    print(c, end='-')"
   ]
  },
  {
   "cell_type": "markdown",
   "metadata": {},
   "source": [
    "**Your task**:\n",
    "Write code that counts and outputs\n",
    "1. The number of lines in the string `s`.\n",
    "2. The number of non-whitespace characters (whitespace is `' '`, `'\\t'` (tab), `'\\n'` (newline)\n",
    "3. The number of words."
   ]
  },
  {
   "cell_type": "code",
   "execution_count": null,
   "metadata": {},
   "outputs": [],
   "source": [
    "# list of white space chars (tuple, actually)\n",
    "whitespace = (' ','\\n','\\t','\\0')\n",
    "\n",
    "# initialize counters\n",
    "num_lines = 1\n",
    "num_chars = 0\n",
    "num_words = 0\n",
    "\n",
    "# do the counting\n",
    "\n",
    "# YOUR CODE HERE ...\n",
    "        \n",
    "print(\"Found {} lines\".format(num_lines))\n",
    "print(\"Found {} printable characters\".format(num_chars))\n",
    "print(\"Found {} words\".format(num_words))"
   ]
  },
  {
   "cell_type": "markdown",
   "metadata": {},
   "source": [
    "### Exercise 3: Some linear algebra\n",
    "\n",
    "**Theory**: \n",
    "The eigenvalue problem for a symmetric matrix ${\\bf A}$ is defined as\n",
    "$$\n",
    "    ({\\bf A}-\\lambda_i {\\bf 1})\\,{\\bf n_i} = {\\bf 0}\n",
    "$$\n",
    "where $\\lambda_i$ is the $i^{th}$ eigenvalue and ${\\bf n}$ is the  $i^{th}$ eigenvector.\n",
    "\n",
    "Pre-multiplying this equation with the eigenvector yields\n",
    "$$\n",
    "    {\\bf n_i}\\cdot({\\bf A}-\\lambda_i {\\bf 1})\\,{\\bf n_i} = 0\n",
    "    \\quad\\Rightarrow\\quad\n",
    "    \\lambda_i = \\frac{{\\bf n_i}\\cdot{\\bf A}\\cdot{\\bf n_i}}{{\\bf n_i}\\cdot{\\bf n_i}}\n",
    "$$\n",
    "The expression for $\\lambda_i$ is the _Rayleigh coefficient_.\n",
    "\n",
    "**Your tasks**:\n",
    "1. use `numpy.linalg.eig` to solve to find eigenvalues and eigenvectors of the given matrix ${\\bf A}$\n",
    "2. in a loop, verify that the _Rayleigh coefficient_ indeed yields the eigenvalues.\n",
    "3. test, whether or not the following expression is true\n",
    "   $$\n",
    "      \\text{for}~~{\\bf v}=\\frac{\\sqrt{2}}{2}({\\bf n}_1+{\\bf n}_2)\n",
    "      \\quad\\to\\quad\n",
    "      \\frac{{\\bf v}\\cdot{\\bf A}\\cdot{\\bf v}}{{\\bf v}\\cdot{\\bf v}} = \\frac{\\lambda_1 + \\lambda_2}{2}\n",
    "   $$\n",
    "   whill this result hold for ${\\bf v}=({\\bf n}_1+{\\bf n}_2)$?"
   ]
  },
  {
   "cell_type": "code",
   "execution_count": 5,
   "metadata": {},
   "outputs": [],
   "source": [
    "# GIVEN ... please execute this cell to initialize A\n",
    "\n",
    "from numpy import array\n",
    "\n",
    "A = array(\n",
    "    [[3,2,1,0,0],\n",
    "     [2,3,2,1,0],\n",
    "     [1,2,3,2,1],\n",
    "     [0,1,2,3,2],\n",
    "     [0,0,1,2,3]]\n",
    ")"
   ]
  },
  {
   "cell_type": "markdown",
   "metadata": {},
   "source": [
    "I define helper functions to compute the Rayleigh coefficient and to perform a relaxed floating point comparison"
   ]
  },
  {
   "cell_type": "code",
   "execution_count": 8,
   "metadata": {},
   "outputs": [],
   "source": [
    "def rayleigh(A,v):\n",
    "    ans = (v @ A @ v)/(v @ v)\n",
    "    return ans\n",
    "\n",
    "def test_equal(a,b):\n",
    "    if abs(b-a) < 1.e-12:\n",
    "        return True\n",
    "    else:\n",
    "        return False\n",
    "\n",
    "# More elegant way\n",
    "def test_equal(a,b):\n",
    "    return abs(b-a) < 1.e-12"
   ]
  },
  {
   "cell_type": "code",
   "execution_count": 9,
   "metadata": {},
   "outputs": [
    {
     "name": "stdout",
     "output_type": "stream",
     "text": [
      "[7.65427349 4.56155281 1.74770274 0.43844719 0.59802377]\n",
      "[[ 3.28733703e-01  5.57345410e-01  6.17548407e-01  4.35162146e-01\n",
      "   1.02801351e-01]\n",
      " [ 4.85676469e-01  4.35162146e-01 -1.78297793e-01 -5.57345410e-01\n",
      "  -4.82004424e-01]\n",
      " [ 5.58663621e-01 -4.95995854e-16 -4.16758592e-01 -3.76589109e-15\n",
      "   7.17082447e-01]\n",
      " [ 4.85676469e-01 -4.35162146e-01 -1.78297793e-01  5.57345410e-01\n",
      "  -4.82004424e-01]\n",
      " [ 3.28733703e-01 -5.57345410e-01  6.17548407e-01 -4.35162146e-01\n",
      "   1.02801351e-01]]\n"
     ]
    }
   ],
   "source": [
    "from numpy import sqrt\n",
    "from numpy.linalg import eig\n",
    "\n",
    "# 1. *****************\n",
    "\n",
    "# YOUR CODE HERE ....\n",
    "(lam, nvec) = eig(A)\n",
    "\n",
    "# MAYBE SOME PRINT TO SEE HOW THE ANSWER LOOKS LIKE:\n",
    "print(lam)\n",
    "print(nvec)"
   ]
  },
  {
   "cell_type": "code",
   "execution_count": 10,
   "metadata": {},
   "outputs": [
    {
     "name": "stdout",
     "output_type": "stream",
     "text": [
      "from eig:   7.654273492980 <=> Rayleigh:   7.654273492980   => True\n",
      "from eig:   4.561552812809 <=> Rayleigh:   4.561552812809   => True\n",
      "from eig:   1.747702740583 <=> Rayleigh:   1.747702740583   => True\n",
      "from eig:   0.438447187191 <=> Rayleigh:   0.438447187191   => True\n",
      "from eig:   0.598023766437 <=> Rayleigh:   0.598023766437   => True\n"
     ]
    }
   ],
   "source": [
    "# 2. *****************\n",
    "\n",
    "# format string: lambda from eig, Rayleigh coefficient, answer of comparison test_equal\n",
    "template = \"from eig: {:16.12f} <=> Rayleigh: {:16.12f}   => {}\"\n",
    "\n",
    "# YOUR CODE HERE ...\n",
    "for i in range(5):\n",
    "    ev = lam[i]\n",
    "    nv = nvec[:,i]\n",
    "\n",
    "    ll = rayleigh(A,nv)\n",
    "    print(template.format(ev,ll,test_equal(ev,ll)))"
   ]
  },
  {
   "cell_type": "code",
   "execution_count": null,
   "metadata": {},
   "outputs": [],
   "source": [
    "# 3  *****************\n",
    "\n",
    "# YOUR CODE HERE ....\n"
   ]
  },
  {
   "cell_type": "markdown",
   "metadata": {},
   "source": [
    "### Exercise 4: Conversion from MATLAB\n",
    "\n",
    "You may already have some MATLAB code that you want to migrate to python.  Using the `matrix` type is a quick and dirty way, though using `array` is the _highly_ recommended way.\n",
    "\n",
    "Using the `array` type, try converting this MATLAB code segment into python\n",
    "\n",
    "```matlab\n",
    "x = linspace(0,10,11)';\n",
    "x2 = x.*x;              # generates a list of x^2\n",
    "one = ones(11,1);       # a vector full of ones\n",
    "y = sin(pi*x/10);\n",
    "\n",
    "A = [ one'*one, one'*x, one'*x2\n",
    "        x'*one,   x'*x,   x'*x2\n",
    "       x2'*one,  x2'*x,  x2'*x2 ];\n",
    "\n",
    "b = [ y'*one; y'*x; y'*x2 ];\n",
    "\n",
    "p = A\\b\n",
    "\n",
    "ybar = [ one, x, x2 ]*p;\n",
    "\n",
    "errvec = y-ybar;\n",
    "\n",
    "err = sqrt((errvec'*errvec)/length(x))\n",
    "```\n",
    "\n",
    "which generates\n",
    "\n",
    "~~~\n",
    "p =\n",
    "\n",
    "  -0.025578\n",
    "   0.399704\n",
    "  -0.039970\n",
    "\n",
    "err =  0.021912\n",
    "~~~\n",
    "\n",
    "**hints**:\n",
    "1. Think vector as 1D-array and matrix as 2D-array\n",
    "2. think matrix or dot product -> @\n",
    "3. the `numpy.hstack` or `numpy.vstack` function may come in handy"
   ]
  },
  {
   "cell_type": "code",
   "execution_count": 70,
   "metadata": {},
   "outputs": [
    {
     "name": "stdout",
     "output_type": "stream",
     "text": [
      "0.02191197068166339\n"
     ]
    },
    {
     "data": {
      "text/plain": [
       "[<matplotlib.lines.Line2D at 0x1c5b2495c40>,\n",
       " <matplotlib.lines.Line2D at 0x1c5b2495ca0>]"
      ]
     },
     "execution_count": 70,
     "metadata": {},
     "output_type": "execute_result"
    },
    {
     "data": {
      "image/png": "[encoded data removed]",
      "text/plain": [
       "<Figure size 640x480 with 1 Axes>"
      ]
     },
     "metadata": {},
     "output_type": "display_data"
    }
   ],
   "source": [
    "from numpy import linspace, sqrt, sin, ones, ones_like, pi, vstack, hstack\n",
    "from numpy.linalg import solve\n",
    "\n",
    "# ***************************************************************\n",
    "# I copied the MATLAB code below for you to modify into python\n",
    "# ***************************************************************\n",
    "\n",
    "# Step 1: eliminate semicolons \n",
    "\n",
    "# Step 2: translate \n",
    "x   = linspace(0,10,11)\n",
    "x2  = x*x              # generates a list of x^2\n",
    "one = ones_like(x)       # a vector full of ones\n",
    "y   = sin(pi*x/10)\n",
    "\n",
    "A = array(\n",
    "    [[one @ one, one @ x, one @ x2],\n",
    "     [  x @ one,   x @ x,   x @ x2],\n",
    "     [ x2 @ one,  x2 @ x,  x2 @ x2]]\n",
    "    )\n",
    "\n",
    "b = array([ y @ one, y @ x, y @ x2])\n",
    "\n",
    "p = solve(A,b)\n",
    "\n",
    "ybar   = p @ array([one, x, x2])\n",
    "errvec = y-ybar\n",
    "\n",
    "err = sqrt((errvec @ errvec)/len(x))\n",
    "\n",
    "print(err)\n",
    "\n",
    "import matplotlib.pyplot as plt\n",
    "plt.plot(x,y,x,ybar)"
   ]
  },
  {
   "cell_type": "markdown",
   "metadata": {},
   "source": [
    "## Homework questions\n",
    "\n",
    "We can all learn from your questions!"
   ]
  },
  {
   "cell_type": "code",
   "execution_count": null,
   "metadata": {},
   "outputs": [],
   "source": []
  }
 ],
 "metadata": {
  "kernelspec": {
   "display_name": "Python 3 (ipykernel)",
   "language": "python",
   "name": "python3"
  },
  "language_info": {
   "codemirror_mode": {
    "name": "ipython",
    "version": 3
   },
   "file_extension": ".py",
   "mimetype": "text/x-python",
   "name": "python",
   "nbconvert_exporter": "python",
   "pygments_lexer": "ipython3",
   "version": "3.9.13"
  }
 },
 "nbformat": 4,
 "nbformat_minor": 4
}
